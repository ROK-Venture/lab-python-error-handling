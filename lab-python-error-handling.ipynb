{
 "cells": [
  {
   "cell_type": "markdown",
   "id": "25d7736c-ba17-4aff-b6bb-66eba20fbf4e",
   "metadata": {},
   "source": [
    "# Lab | Error Handling"
   ]
  },
  {
   "cell_type": "markdown",
   "id": "bc99b386-7508-47a0-bcdb-d969deaf6c8b",
   "metadata": {},
   "source": [
    "## Exercise: Error Handling for Managing Customer Orders\n",
    "\n",
    "The implementation of your code for managing customer orders assumes that the user will always enter a valid input. \n",
    "\n",
    "For example, we could modify the `initialize_inventory` function to include error handling.\n",
    "   - If the user enters an invalid quantity (e.g., a negative value or a non-numeric value), display an error message and ask them to re-enter the quantity for that product.\n",
    "   - Use a try-except block to handle the error and continue prompting the user until a valid quantity is entered.\n",
    "\n",
    "```python\n",
    "# Step 1: Define the function for initializing the inventory with error handling\n",
    "def initialize_inventory(products):\n",
    "    inventory = {}\n",
    "    for product in products:\n",
    "        valid_quantity = False\n",
    "        while not valid_quantity:\n",
    "            try:\n",
    "                quantity = int(input(f\"Enter the quantity of {product}s available: \"))\n",
    "                if quantity < 0:\n",
    "                    raise ValueError(\"Invalid quantity! Please enter a non-negative value.\")\n",
    "                valid_quantity = True\n",
    "            except ValueError as error:\n",
    "                print(f\"Error: {error}\")\n",
    "        inventory[product] = quantity\n",
    "    return inventory\n",
    "\n",
    "# Or, in another way:\n",
    "\n",
    "def initialize_inventory(products):\n",
    "    inventory = {}\n",
    "    for product in products:\n",
    "        valid_input = False\n",
    "        while not valid_input:\n",
    "            try:\n",
    "                quantity = int(input(f\"Enter the quantity of {product}s available: \"))\n",
    "                if quantity >= 0:\n",
    "                    inventory[product] = quantity\n",
    "                    valid_input = True\n",
    "                else:\n",
    "                    print(\"Quantity cannot be negative. Please enter a valid quantity.\")\n",
    "            except ValueError:\n",
    "                print(\"Invalid input. Please enter a valid quantity.\")\n",
    "    return inventory\n",
    "```\n",
    "\n",
    "Let's enhance your code by implementing error handling to handle invalid inputs.\n",
    "\n",
    "Follow the steps below to complete the exercise:\n",
    "\n",
    "2. Modify the `calculate_total_price` function to include error handling.\n",
    "   - If the user enters an invalid price (e.g., a negative value or a non-numeric value), display an error message and ask them to re-enter the price for that product.\n",
    "   - Use a try-except block to handle the error and continue prompting the user until a valid price is entered.\n",
    "\n",
    "3. Modify the `get_customer_orders` function to include error handling.\n",
    "   - If the user enters an invalid number of orders (e.g., a negative value or a non-numeric value), display an error message and ask them to re-enter the number of orders.\n",
    "   - If the user enters an invalid product name (e.g., a product name that is not in the inventory), or that doesn't have stock available, display an error message and ask them to re-enter the product name. *Hint: you will need to pass inventory as a parameter*\n",
    "   - Use a try-except block to handle the error and continue prompting the user until a valid product name is entered.\n",
    "\n",
    "4. Test your code by running the program and deliberately entering invalid quantities and product names. Make sure the error handling mechanism works as expected.\n"
   ]
  },
  {
   "cell_type": "code",
   "execution_count": 9,
   "id": "bcd12541",
   "metadata": {},
   "outputs": [
    {
     "name": "stdout",
     "output_type": "stream",
     "text": [
      "Available products ['t-shirt', 'mug', 'hat', 'book', 'keychain']\n",
      "Your current product stock is: {'t-shirt': 1, 'mug': 2, 'hat': 3, 'book': 4, 'keychain': 5}\n"
     ]
    }
   ],
   "source": [
    "products = [\"t-shirt\", \"mug\", \"hat\", \"book\", \"keychain\"]\n",
    "print(\"Available products\", products)\n",
    "\n",
    "def initialize_inventory(products):\n",
    "    inventory = {}\n",
    "    for product in products:\n",
    "        valid_input = False\n",
    "        while not valid_input:\n",
    "            try:\n",
    "                quantity = int(input(f\"Enter the quantity of {product}s available: \"))\n",
    "                if quantity >= 0:\n",
    "                    inventory[product] = quantity\n",
    "                    valid_input = True\n",
    "                else:\n",
    "                    print(\"Quantity cannot be negative. Please enter a valid quantity.\")\n",
    "            except ValueError:\n",
    "                print(\"Invalid input. Please enter a valid quantity.\")\n",
    "    return inventory\n",
    "\n",
    "inventory = initialize_inventory(products)\n",
    "\n",
    "print(\"Your current product stock is:\", inventory)"
   ]
  },
  {
   "cell_type": "code",
   "execution_count": 10,
   "id": "ea83cdb7",
   "metadata": {},
   "outputs": [
    {
     "name": "stdout",
     "output_type": "stream",
     "text": [
      "Product t-shirt is now out of stock and has been removed from the list.\n",
      "Product mug is now out of stock and has been removed from the list.\n",
      "Customer Orders: ['t-shirt', 'book', 'mug', 'mug']\n",
      "Unique Products: {'mug', 't-shirt', 'book'}\n",
      "Final Updated Inventory: {'t-shirt': 0, 'mug': 0, 'hat': 3, 'book': 3, 'keychain': 5}\n"
     ]
    }
   ],
   "source": [
    "def get_customer_orders(inventory):\n",
    "    while True:\n",
    "        try:\n",
    "            input_orders = int(input(\"How many products would the customer like to order? \"))\n",
    "            if input_orders <= 0:\n",
    "                print(\"Please enter a positive number of orders.\")\n",
    "                continue\n",
    "            break\n",
    "        except ValueError:\n",
    "            print(\"Invalid input. Please enter a valid number.\")\n",
    "\n",
    "    customer_orders = []\n",
    "    for _ in range(input_orders):\n",
    "        product_is_valid = False\n",
    "        while not product_is_valid:\n",
    "            product = input(f\"Enter the name of a product from the list to order {products}: \")\n",
    "            if product in products and inventory.get(product, 0) > 0:\n",
    "                customer_orders.append(product)\n",
    "                inventory[product] -= 1\n",
    "                product_is_valid = True\n",
    "                if inventory[product] == 0:\n",
    "                    print(f\"Product {product} is now out of stock and has been removed from the list.\")\n",
    "                    products.remove(product)\n",
    "            else:\n",
    "                print(f\"{product} is not in the list of available products or is out of stock. Please try again.\")\n",
    "\n",
    "    unique_products = set(customer_orders)\n",
    "    return customer_orders, unique_products\n",
    "\n",
    "customer_orders, unique_products = get_customer_orders(inventory)\n",
    "\n",
    "print(\"Customer Orders:\", customer_orders)\n",
    "print(\"Unique Products:\", unique_products)\n",
    "\n",
    "print(\"Final Updated Inventory:\", inventory)"
   ]
  },
  {
   "cell_type": "code",
   "execution_count": 17,
   "id": "9ffb6591",
   "metadata": {},
   "outputs": [
    {
     "name": "stdout",
     "output_type": "stream",
     "text": [
      "Invalid input. Please enter a numeric value.\n",
      "Price cannot be negative. Please enter a valid price.\n",
      "Invalid input. Please enter a numeric value.\n",
      "Prices: {'mug': 10.0, 't-shirt': 20.0, 'book': 30.0}\n",
      "Total price of the customer order is: 70.0\n"
     ]
    }
   ],
   "source": [
    "def calculate_total_price(customer_orders):\n",
    "    input_price = {}\n",
    "    for product in unique_products:\n",
    "        while True:\n",
    "            try:\n",
    "                price = float(input(f\"Enter the price for {product}: \"))\n",
    "                if price < 0:\n",
    "                    print(\"Price cannot be negative. Please enter a valid price.\")\n",
    "                else:\n",
    "                    input_price[product] = price\n",
    "                    break\n",
    "            except ValueError:\n",
    "                print(\"Invalid input. Please enter a numeric value.\")\n",
    "    \n",
    "    total_price = sum(input_price[product] for product in customer_orders)\n",
    "    return input_price, total_price\n",
    "\n",
    "input_price, total_price = calculate_total_price(customer_orders)\n",
    "\n",
    "print(\"Prices:\", input_price)\n",
    "print(f\"Total price of the customer order is: {total_price}\")"
   ]
  }
 ],
 "metadata": {
  "kernelspec": {
   "display_name": "base",
   "language": "python",
   "name": "python3"
  },
  "language_info": {
   "codemirror_mode": {
    "name": "ipython",
    "version": 3
   },
   "file_extension": ".py",
   "mimetype": "text/x-python",
   "name": "python",
   "nbconvert_exporter": "python",
   "pygments_lexer": "ipython3",
   "version": "3.12.7"
  }
 },
 "nbformat": 4,
 "nbformat_minor": 5
}
